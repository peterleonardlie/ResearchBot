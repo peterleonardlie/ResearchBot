{
 "cells": [
  {
   "cell_type": "code",
   "execution_count": 1,
   "metadata": {},
   "outputs": [],
   "source": [
    "import main"
   ]
  },
  {
   "cell_type": "code",
   "execution_count": 22,
   "metadata": {},
   "outputs": [],
   "source": [
    "import media\n",
    "import query as q\n",
    "\n",
    "def search(data):\n",
    "    query = q.QueryExtractor()\n",
    "    try:\n",
    "        if \"news\" in data.lower():\n",
    "            # News Query\n",
    "            query = query.get_news_tokens(data)\n",
    "            response = media.Aggregator().get_news(query)\n",
    "            if len(response) <= 0:\n",
    "                return \"Sorry, no relevant results were returned.\"\n",
    "            i, done = 0, media.shorten_news(response[0])\n",
    "            while (not done) and ((i + 1) < len(response)):\n",
    "                i += 1\n",
    "                done = shorten_news(response[i])\n",
    "        else:\n",
    "            # Knowledge Query\n",
    "            done = media.get_gkg(query.get_knowledge_tokens(data))\n",
    "        \n",
    "        if not done:\n",
    "            return \"Sorry, no valid results were returned.\"\n",
    "        \n",
    "        return done\n",
    "        \n",
    "    except:\n",
    "        return \"Sorry, something unexpected happened.\""
   ]
  },
  {
   "cell_type": "code",
   "execution_count": 23,
   "metadata": {
    "scrolled": true
   },
   "outputs": [
    {
     "data": {
      "text/plain": [
       "'At Graduation, a Son in the Limelight and a Father in the Shadows - The New York Times “He said, ‘If you don’t figure this out, I will send you back to Mexico,’” Roni said. “He ran across the border,” Roni said, “so I could walk across this stage.”\\nFollow Jim Dwyer on Twitter:@jimdwyernytEmail: dwyer@nytimes.com\\nSEE MY OPTIONS “He’s very good at writing, he’s incredibly smart, and he wasn’t just studying all the time,” Stella Krajick, a classmate, said. “He didn’t do it to prove to the judge why he shouldn’t be deported,” Roni said. In his speech, Roni, who plans to attend Middlebury College, told his classmates of his family’s story — one that, he said, summoned all of them to see their own privileges as immigrants or immigrants’ children, and their duty to use those advantages for others.'"
      ]
     },
     "execution_count": 23,
     "metadata": {},
     "output_type": "execute_result"
    }
   ],
   "source": [
    "data = \"What is the latest news on Star Wars in the New York Times?\"\n",
    "search(data)"
   ]
  },
  {
   "cell_type": "code",
   "execution_count": 24,
   "metadata": {},
   "outputs": [
    {
     "data": {
      "text/plain": [
       "\"Donald John Trump  is the 45th and current President of the United States. Before entering politics, he was a businessman and television personality.\\nTrump was born and raised in the New York City borough of Queens, and received an economics degree from the Wharton School of the University of Pennsylvania. He took charge of his family's real estate business in 1971, renamed it to The Trump Organization, and expanded it into Manhattan. The company built or renovated skyscrapers, hotels, casinos, and golf courses.\""
      ]
     },
     "execution_count": 24,
     "metadata": {},
     "output_type": "execute_result"
    }
   ],
   "source": [
    "data = \"Who is Donald trump?\"\n",
    "search(data)"
   ]
  },
  {
   "cell_type": "code",
   "execution_count": null,
   "metadata": {},
   "outputs": [],
   "source": []
  },
  {
   "cell_type": "code",
   "execution_count": null,
   "metadata": {},
   "outputs": [],
   "source": []
  }
 ],
 "metadata": {
  "kernelspec": {
   "display_name": "Python 3",
   "language": "python",
   "name": "python3"
  },
  "language_info": {
   "codemirror_mode": {
    "name": "ipython",
    "version": 3
   },
   "file_extension": ".py",
   "mimetype": "text/x-python",
   "name": "python",
   "nbconvert_exporter": "python",
   "pygments_lexer": "ipython3",
   "version": "3.6.4"
  }
 },
 "nbformat": 4,
 "nbformat_minor": 2
}
