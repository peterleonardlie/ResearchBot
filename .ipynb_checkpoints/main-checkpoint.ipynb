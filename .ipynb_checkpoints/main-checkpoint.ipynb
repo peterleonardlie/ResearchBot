{
 "cells": [
  {
   "cell_type": "markdown",
   "metadata": {},
   "source": [
    "# Research Assistant Bot\n",
    "\n",
    "## Able to differentiate between news queries and knowledge queries on a basic level\n",
    "\n",
    "- news is obtained from NY Times API\n",
    "- knowledge is obtained from wikipedia\n",
    "\n",
    "## Libraries\n",
    "\n",
    "- spaCy: for NLP processing.\n",
    "\n",
    "- Wikipedia: This helps query the Wikipedia API.\n",
    "\n",
    "- Summarizer: from The Glowing Python blog written by JustGlowing. It summarizes lengthy content.\n",
    "\n",
    "this program is inspired from delbot by shail deliwala [Here](https://github.com/shaildeliwala/delbot)"
   ]
  },
  {
   "cell_type": "code",
   "execution_count": 1,
   "metadata": {},
   "outputs": [],
   "source": [
    "from main import search"
   ]
  },
  {
   "cell_type": "markdown",
   "metadata": {},
   "source": [
    "### news search"
   ]
  },
  {
   "cell_type": "code",
   "execution_count": 23,
   "metadata": {
    "scrolled": true
   },
   "outputs": [
    {
     "data": {
      "text/plain": [
       "'At Graduation, a Son in the Limelight and a Father in the Shadows - The New York Times “He said, ‘If you don’t figure this out, I will send you back to Mexico,’” Roni said. “He ran across the border,” Roni said, “so I could walk across this stage.”\\nFollow Jim Dwyer on Twitter:@jimdwyernytEmail: dwyer@nytimes.com\\nSEE MY OPTIONS “He’s very good at writing, he’s incredibly smart, and he wasn’t just studying all the time,” Stella Krajick, a classmate, said. “He didn’t do it to prove to the judge why he shouldn’t be deported,” Roni said. In his speech, Roni, who plans to attend Middlebury College, told his classmates of his family’s story — one that, he said, summoned all of them to see their own privileges as immigrants or immigrants’ children, and their duty to use those advantages for others.'"
      ]
     },
     "execution_count": 23,
     "metadata": {},
     "output_type": "execute_result"
    }
   ],
   "source": [
    "data = \"What is the latest news on Star Wars in the New York Times?\"\n",
    "search(data)"
   ]
  },
  {
   "cell_type": "code",
   "execution_count": 25,
   "metadata": {},
   "outputs": [
    {
     "data": {
      "text/plain": [
       "'Greek Food Thrills in Australia: It’s So Much More Than Lemon and Olive Oil - The New York Times 1821; 122 Pitt Street, Sydney, New South Wales; 02 8080 7070; 1821.com.au\\nThe Press Club; 72 Flinders Street, Melbourne, Victoria; 03 9677 9677; thepressclub.com.au\\nElyros; 871 Burke Road, Camberwell, Victoria; 03 9882 8877; elyros.com.au\\nHellenika; 2235 Gold Coast Highway, Nobby Beach, Queensland; 07 5572 8009; hellenika.com.au\\nJim’s Greek Tavern; 32 Johnston Street, Collingwood, Victoria; 03 9419 3827 \\nDo you have a suggestion for Besha Rodell? Supported by\\nAUSTRALIA FARE: CRITIC’S NOTEBOOK\\nThe cuisine has deep influence over this country’s dining culture, and it’s more exciting than ever. When it comes to restaurants, this pervasiveness makes for a richer, more exciting Greek-diaspora dining scene — from street food to home-style cooking to tasting menus — than any I’ve come across in America and beyond. The best Greek food I’ve had in Australia is not in Melbourne, but at Hellenika in Gold Coast, Queensland. When my family moved from Melbourne to the United States in the early 1990s, we quickly came to the conclusion that the main difference in the two nations’ cooking was our prodigious use of lemon juice and olive oil.'"
      ]
     },
     "execution_count": 25,
     "metadata": {},
     "output_type": "execute_result"
    }
   ],
   "source": [
    "data = \"News about Australia\"\n",
    "search(data)"
   ]
  },
  {
   "cell_type": "markdown",
   "metadata": {},
   "source": [
    "### Knowledge based"
   ]
  },
  {
   "cell_type": "code",
   "execution_count": 24,
   "metadata": {},
   "outputs": [
    {
     "data": {
      "text/plain": [
       "\"Donald John Trump  is the 45th and current President of the United States. Before entering politics, he was a businessman and television personality.\\nTrump was born and raised in the New York City borough of Queens, and received an economics degree from the Wharton School of the University of Pennsylvania. He took charge of his family's real estate business in 1971, renamed it to The Trump Organization, and expanded it into Manhattan. The company built or renovated skyscrapers, hotels, casinos, and golf courses.\""
      ]
     },
     "execution_count": 24,
     "metadata": {},
     "output_type": "execute_result"
    }
   ],
   "source": [
    "data = \"Who is Donald trump?\"\n",
    "search(data)"
   ]
  },
  {
   "cell_type": "code",
   "execution_count": 26,
   "metadata": {},
   "outputs": [
    {
     "data": {
      "text/plain": [
       "'Barack Hussein Obama II  is an American attorney and politician who served as the 44th President of the United States from January 20, 2009, to January 20, 2017.  A member of the Democratic Party, he  was the first African American to serve as president.  He was previously a United States Senator from Illinois and a member of the Illinois State Senate.\\nObama was born in 1961 in Honolulu, Hawaii, two years after the territory was admitted to the Union as the 50th state. Raised largely in Hawaii, he also spent one year of his childhood in Washington state and four years in Indonesia.'"
      ]
     },
     "execution_count": 26,
     "metadata": {},
     "output_type": "execute_result"
    }
   ],
   "source": [
    "data = \"Tell me about barack obama\"\n",
    "search(data)"
   ]
  }
 ],
 "metadata": {
  "kernelspec": {
   "display_name": "Python 3",
   "language": "python",
   "name": "python3"
  },
  "language_info": {
   "codemirror_mode": {
    "name": "ipython",
    "version": 3
   },
   "file_extension": ".py",
   "mimetype": "text/x-python",
   "name": "python",
   "nbconvert_exporter": "python",
   "pygments_lexer": "ipython3",
   "version": "3.6.4"
  }
 },
 "nbformat": 4,
 "nbformat_minor": 2
}
